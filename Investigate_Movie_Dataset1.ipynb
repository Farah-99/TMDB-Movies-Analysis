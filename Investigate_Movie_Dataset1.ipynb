{
 "cells": [
  {
   "cell_type": "markdown",
   "metadata": {},
   "source": [
    "# Project: [TMDB-Movies] Analysis\n",
    "\n",
    "## Table of Contents\n",
    "<ul>\n",
    "<li><a href=\"#intro\">Introduction</a></li>\n",
    "<li><a href=\"#wrangling\">Data Wrangling</a></li>\n",
    "<li><a href=\"#eda\">Exploratory Data Analysis</a></li>\n",
    "<li><a href=\"#conclusions\">Conclusions</a></li>\n",
    "</ul>"
   ]
  },
  {
   "cell_type": "markdown",
   "metadata": {},
   "source": [
    "<a id='intro'></a>\n",
    "## Introduction\n",
    "\n",
    "### Dataset Description \n",
    "\n",
    "> The TMDB Movie Database is a very popular online collaborative database for movie and television information. Around 10,000 movies' worth of data are included in it. \n",
    "The main objective of this project is to conduct in-depth analysis and visualization in order to generate answers to the raised queries.\n",
    "\n",
    "### Question(s) for Analysis\n",
    ">**Which genre appears the most in movies?**\n",
    "\n",
    ">**Which star cast appears most in movies and does its existance influence revenue?**\n",
    "\n",
    ">**What kinds of factors are connected to movies that bring in huge profits?**\n",
    "\n",
    ">**What period is the best to release a film?**\n",
    "\n",
    ">**Does budget has impact on revenue?**"
   ]
  },
  {
   "cell_type": "markdown",
   "metadata": {},
   "source": [
    "First of all let's import the necessary librairies that will make our work easier!"
   ]
  },
  {
   "cell_type": "code",
   "execution_count": 1,
   "metadata": {},
   "outputs": [],
   "source": [
    "import numpy as np\n",
    "import pandas as pd\n",
    "import matplotlib.pyplot as plt\n",
    "import seaborn as sns\n",
    "%matplotlib inline"
   ]
  },
  {
   "cell_type": "code",
   "execution_count": 2,
   "metadata": {},
   "outputs": [],
   "source": [
    "# Upgrade pandas to use dataframe.explode() function. \n",
    "#!pip install --upgrade pandas==0.25.0"
   ]
  },
  {
   "cell_type": "markdown",
   "metadata": {},
   "source": [
    "<a id='wrangling'></a>\n",
    "## Data Wrangling\n",
    "\n",
    "\n",
    "### General Properties\n",
    "Firstly, Let's start by importing the movie dataset. I'm using pandas for that."
   ]
  },
  {
   "cell_type": "code",
   "execution_count": 3,
   "metadata": {},
   "outputs": [],
   "source": [
    "df = pd.read_csv('tmdb-movies.csv')"
   ]
  },
  {
   "cell_type": "markdown",
   "metadata": {},
   "source": [
    "Let's disover our data, let's have a look on the first or last few lines of our data (.head() or .tail() will do the job)"
   ]
  },
  {
   "cell_type": "code",
   "execution_count": 4,
   "metadata": {},
   "outputs": [
    {
     "data": {
      "text/html": [
       "<div>\n",
       "<style scoped>\n",
       "    .dataframe tbody tr th:only-of-type {\n",
       "        vertical-align: middle;\n",
       "    }\n",
       "\n",
       "    .dataframe tbody tr th {\n",
       "        vertical-align: top;\n",
       "    }\n",
       "\n",
       "    .dataframe thead th {\n",
       "        text-align: right;\n",
       "    }\n",
       "</style>\n",
       "<table border=\"1\" class=\"dataframe\">\n",
       "  <thead>\n",
       "    <tr style=\"text-align: right;\">\n",
       "      <th></th>\n",
       "      <th>id</th>\n",
       "      <th>imdb_id</th>\n",
       "      <th>popularity</th>\n",
       "      <th>budget</th>\n",
       "      <th>revenue</th>\n",
       "      <th>original_title</th>\n",
       "      <th>cast</th>\n",
       "      <th>homepage</th>\n",
       "      <th>director</th>\n",
       "      <th>tagline</th>\n",
       "      <th>...</th>\n",
       "      <th>overview</th>\n",
       "      <th>runtime</th>\n",
       "      <th>genres</th>\n",
       "      <th>production_companies</th>\n",
       "      <th>release_date</th>\n",
       "      <th>vote_count</th>\n",
       "      <th>vote_average</th>\n",
       "      <th>release_year</th>\n",
       "      <th>budget_adj</th>\n",
       "      <th>revenue_adj</th>\n",
       "    </tr>\n",
       "  </thead>\n",
       "  <tbody>\n",
       "    <tr>\n",
       "      <th>0</th>\n",
       "      <td>135397</td>\n",
       "      <td>tt0369610</td>\n",
       "      <td>32.985763</td>\n",
       "      <td>150000000</td>\n",
       "      <td>1513528810</td>\n",
       "      <td>Jurassic World</td>\n",
       "      <td>Chris Pratt|Bryce Dallas Howard|Irrfan Khan|Vi...</td>\n",
       "      <td>http://www.jurassicworld.com/</td>\n",
       "      <td>Colin Trevorrow</td>\n",
       "      <td>The park is open.</td>\n",
       "      <td>...</td>\n",
       "      <td>Twenty-two years after the events of Jurassic ...</td>\n",
       "      <td>124</td>\n",
       "      <td>Action|Adventure|Science Fiction|Thriller</td>\n",
       "      <td>Universal Studios|Amblin Entertainment|Legenda...</td>\n",
       "      <td>6/9/15</td>\n",
       "      <td>5562</td>\n",
       "      <td>6.5</td>\n",
       "      <td>2015</td>\n",
       "      <td>1.379999e+08</td>\n",
       "      <td>1.392446e+09</td>\n",
       "    </tr>\n",
       "    <tr>\n",
       "      <th>1</th>\n",
       "      <td>76341</td>\n",
       "      <td>tt1392190</td>\n",
       "      <td>28.419936</td>\n",
       "      <td>150000000</td>\n",
       "      <td>378436354</td>\n",
       "      <td>Mad Max: Fury Road</td>\n",
       "      <td>Tom Hardy|Charlize Theron|Hugh Keays-Byrne|Nic...</td>\n",
       "      <td>http://www.madmaxmovie.com/</td>\n",
       "      <td>George Miller</td>\n",
       "      <td>What a Lovely Day.</td>\n",
       "      <td>...</td>\n",
       "      <td>An apocalyptic story set in the furthest reach...</td>\n",
       "      <td>120</td>\n",
       "      <td>Action|Adventure|Science Fiction|Thriller</td>\n",
       "      <td>Village Roadshow Pictures|Kennedy Miller Produ...</td>\n",
       "      <td>5/13/15</td>\n",
       "      <td>6185</td>\n",
       "      <td>7.1</td>\n",
       "      <td>2015</td>\n",
       "      <td>1.379999e+08</td>\n",
       "      <td>3.481613e+08</td>\n",
       "    </tr>\n",
       "    <tr>\n",
       "      <th>2</th>\n",
       "      <td>262500</td>\n",
       "      <td>tt2908446</td>\n",
       "      <td>13.112507</td>\n",
       "      <td>110000000</td>\n",
       "      <td>295238201</td>\n",
       "      <td>Insurgent</td>\n",
       "      <td>Shailene Woodley|Theo James|Kate Winslet|Ansel...</td>\n",
       "      <td>http://www.thedivergentseries.movie/#insurgent</td>\n",
       "      <td>Robert Schwentke</td>\n",
       "      <td>One Choice Can Destroy You</td>\n",
       "      <td>...</td>\n",
       "      <td>Beatrice Prior must confront her inner demons ...</td>\n",
       "      <td>119</td>\n",
       "      <td>Adventure|Science Fiction|Thriller</td>\n",
       "      <td>Summit Entertainment|Mandeville Films|Red Wago...</td>\n",
       "      <td>3/18/15</td>\n",
       "      <td>2480</td>\n",
       "      <td>6.3</td>\n",
       "      <td>2015</td>\n",
       "      <td>1.012000e+08</td>\n",
       "      <td>2.716190e+08</td>\n",
       "    </tr>\n",
       "    <tr>\n",
       "      <th>3</th>\n",
       "      <td>140607</td>\n",
       "      <td>tt2488496</td>\n",
       "      <td>11.173104</td>\n",
       "      <td>200000000</td>\n",
       "      <td>2068178225</td>\n",
       "      <td>Star Wars: The Force Awakens</td>\n",
       "      <td>Harrison Ford|Mark Hamill|Carrie Fisher|Adam D...</td>\n",
       "      <td>http://www.starwars.com/films/star-wars-episod...</td>\n",
       "      <td>J.J. Abrams</td>\n",
       "      <td>Every generation has a story.</td>\n",
       "      <td>...</td>\n",
       "      <td>Thirty years after defeating the Galactic Empi...</td>\n",
       "      <td>136</td>\n",
       "      <td>Action|Adventure|Science Fiction|Fantasy</td>\n",
       "      <td>Lucasfilm|Truenorth Productions|Bad Robot</td>\n",
       "      <td>12/15/15</td>\n",
       "      <td>5292</td>\n",
       "      <td>7.5</td>\n",
       "      <td>2015</td>\n",
       "      <td>1.839999e+08</td>\n",
       "      <td>1.902723e+09</td>\n",
       "    </tr>\n",
       "    <tr>\n",
       "      <th>4</th>\n",
       "      <td>168259</td>\n",
       "      <td>tt2820852</td>\n",
       "      <td>9.335014</td>\n",
       "      <td>190000000</td>\n",
       "      <td>1506249360</td>\n",
       "      <td>Furious 7</td>\n",
       "      <td>Vin Diesel|Paul Walker|Jason Statham|Michelle ...</td>\n",
       "      <td>http://www.furious7.com/</td>\n",
       "      <td>James Wan</td>\n",
       "      <td>Vengeance Hits Home</td>\n",
       "      <td>...</td>\n",
       "      <td>Deckard Shaw seeks revenge against Dominic Tor...</td>\n",
       "      <td>137</td>\n",
       "      <td>Action|Crime|Thriller</td>\n",
       "      <td>Universal Pictures|Original Film|Media Rights ...</td>\n",
       "      <td>4/1/15</td>\n",
       "      <td>2947</td>\n",
       "      <td>7.3</td>\n",
       "      <td>2015</td>\n",
       "      <td>1.747999e+08</td>\n",
       "      <td>1.385749e+09</td>\n",
       "    </tr>\n",
       "  </tbody>\n",
       "</table>\n",
       "<p>5 rows × 21 columns</p>\n",
       "</div>"
      ],
      "text/plain": [
       "       id    imdb_id  popularity     budget     revenue  \\\n",
       "0  135397  tt0369610   32.985763  150000000  1513528810   \n",
       "1   76341  tt1392190   28.419936  150000000   378436354   \n",
       "2  262500  tt2908446   13.112507  110000000   295238201   \n",
       "3  140607  tt2488496   11.173104  200000000  2068178225   \n",
       "4  168259  tt2820852    9.335014  190000000  1506249360   \n",
       "\n",
       "                 original_title  \\\n",
       "0                Jurassic World   \n",
       "1            Mad Max: Fury Road   \n",
       "2                     Insurgent   \n",
       "3  Star Wars: The Force Awakens   \n",
       "4                     Furious 7   \n",
       "\n",
       "                                                cast  \\\n",
       "0  Chris Pratt|Bryce Dallas Howard|Irrfan Khan|Vi...   \n",
       "1  Tom Hardy|Charlize Theron|Hugh Keays-Byrne|Nic...   \n",
       "2  Shailene Woodley|Theo James|Kate Winslet|Ansel...   \n",
       "3  Harrison Ford|Mark Hamill|Carrie Fisher|Adam D...   \n",
       "4  Vin Diesel|Paul Walker|Jason Statham|Michelle ...   \n",
       "\n",
       "                                            homepage          director  \\\n",
       "0                      http://www.jurassicworld.com/   Colin Trevorrow   \n",
       "1                        http://www.madmaxmovie.com/     George Miller   \n",
       "2     http://www.thedivergentseries.movie/#insurgent  Robert Schwentke   \n",
       "3  http://www.starwars.com/films/star-wars-episod...       J.J. Abrams   \n",
       "4                           http://www.furious7.com/         James Wan   \n",
       "\n",
       "                         tagline      ...       \\\n",
       "0              The park is open.      ...        \n",
       "1             What a Lovely Day.      ...        \n",
       "2     One Choice Can Destroy You      ...        \n",
       "3  Every generation has a story.      ...        \n",
       "4            Vengeance Hits Home      ...        \n",
       "\n",
       "                                            overview runtime  \\\n",
       "0  Twenty-two years after the events of Jurassic ...     124   \n",
       "1  An apocalyptic story set in the furthest reach...     120   \n",
       "2  Beatrice Prior must confront her inner demons ...     119   \n",
       "3  Thirty years after defeating the Galactic Empi...     136   \n",
       "4  Deckard Shaw seeks revenge against Dominic Tor...     137   \n",
       "\n",
       "                                      genres  \\\n",
       "0  Action|Adventure|Science Fiction|Thriller   \n",
       "1  Action|Adventure|Science Fiction|Thriller   \n",
       "2         Adventure|Science Fiction|Thriller   \n",
       "3   Action|Adventure|Science Fiction|Fantasy   \n",
       "4                      Action|Crime|Thriller   \n",
       "\n",
       "                                production_companies release_date vote_count  \\\n",
       "0  Universal Studios|Amblin Entertainment|Legenda...       6/9/15       5562   \n",
       "1  Village Roadshow Pictures|Kennedy Miller Produ...      5/13/15       6185   \n",
       "2  Summit Entertainment|Mandeville Films|Red Wago...      3/18/15       2480   \n",
       "3          Lucasfilm|Truenorth Productions|Bad Robot     12/15/15       5292   \n",
       "4  Universal Pictures|Original Film|Media Rights ...       4/1/15       2947   \n",
       "\n",
       "   vote_average  release_year    budget_adj   revenue_adj  \n",
       "0           6.5          2015  1.379999e+08  1.392446e+09  \n",
       "1           7.1          2015  1.379999e+08  3.481613e+08  \n",
       "2           6.3          2015  1.012000e+08  2.716190e+08  \n",
       "3           7.5          2015  1.839999e+08  1.902723e+09  \n",
       "4           7.3          2015  1.747999e+08  1.385749e+09  \n",
       "\n",
       "[5 rows x 21 columns]"
      ]
     },
     "execution_count": 4,
     "metadata": {},
     "output_type": "execute_result"
    }
   ],
   "source": [
    "df.head()"
   ]
  },
  {
   "cell_type": "markdown",
   "metadata": {},
   "source": [
    "Checking properties like the shape, numerical, categorical data..."
   ]
  },
  {
   "cell_type": "code",
   "execution_count": 5,
   "metadata": {},
   "outputs": [
    {
     "data": {
      "text/plain": [
       "(10866, 21)"
      ]
     },
     "execution_count": 5,
     "metadata": {},
     "output_type": "execute_result"
    }
   ],
   "source": [
    "df.shape"
   ]
  },
  {
   "cell_type": "code",
   "execution_count": 6,
   "metadata": {},
   "outputs": [
    {
     "name": "stdout",
     "output_type": "stream",
     "text": [
      "<class 'pandas.core.frame.DataFrame'>\n",
      "RangeIndex: 10866 entries, 0 to 10865\n",
      "Data columns (total 21 columns):\n",
      "id                      10866 non-null int64\n",
      "imdb_id                 10856 non-null object\n",
      "popularity              10866 non-null float64\n",
      "budget                  10866 non-null int64\n",
      "revenue                 10866 non-null int64\n",
      "original_title          10866 non-null object\n",
      "cast                    10790 non-null object\n",
      "homepage                2936 non-null object\n",
      "director                10822 non-null object\n",
      "tagline                 8042 non-null object\n",
      "keywords                9373 non-null object\n",
      "overview                10862 non-null object\n",
      "runtime                 10866 non-null int64\n",
      "genres                  10843 non-null object\n",
      "production_companies    9836 non-null object\n",
      "release_date            10866 non-null object\n",
      "vote_count              10866 non-null int64\n",
      "vote_average            10866 non-null float64\n",
      "release_year            10866 non-null int64\n",
      "budget_adj              10866 non-null float64\n",
      "revenue_adj             10866 non-null float64\n",
      "dtypes: float64(4), int64(6), object(11)\n",
      "memory usage: 1.7+ MB\n"
     ]
    }
   ],
   "source": [
    "df.info()"
   ]
  },
  {
   "cell_type": "code",
   "execution_count": 7,
   "metadata": {
    "scrolled": true
   },
   "outputs": [
    {
     "data": {
      "text/html": [
       "<div>\n",
       "<style scoped>\n",
       "    .dataframe tbody tr th:only-of-type {\n",
       "        vertical-align: middle;\n",
       "    }\n",
       "\n",
       "    .dataframe tbody tr th {\n",
       "        vertical-align: top;\n",
       "    }\n",
       "\n",
       "    .dataframe thead th {\n",
       "        text-align: right;\n",
       "    }\n",
       "</style>\n",
       "<table border=\"1\" class=\"dataframe\">\n",
       "  <thead>\n",
       "    <tr style=\"text-align: right;\">\n",
       "      <th></th>\n",
       "      <th>id</th>\n",
       "      <th>popularity</th>\n",
       "      <th>budget</th>\n",
       "      <th>revenue</th>\n",
       "      <th>runtime</th>\n",
       "      <th>vote_count</th>\n",
       "      <th>vote_average</th>\n",
       "      <th>release_year</th>\n",
       "      <th>budget_adj</th>\n",
       "      <th>revenue_adj</th>\n",
       "    </tr>\n",
       "  </thead>\n",
       "  <tbody>\n",
       "    <tr>\n",
       "      <th>count</th>\n",
       "      <td>10866.000000</td>\n",
       "      <td>10866.000000</td>\n",
       "      <td>1.086600e+04</td>\n",
       "      <td>1.086600e+04</td>\n",
       "      <td>10866.000000</td>\n",
       "      <td>10866.000000</td>\n",
       "      <td>10866.000000</td>\n",
       "      <td>10866.000000</td>\n",
       "      <td>1.086600e+04</td>\n",
       "      <td>1.086600e+04</td>\n",
       "    </tr>\n",
       "    <tr>\n",
       "      <th>mean</th>\n",
       "      <td>66064.177434</td>\n",
       "      <td>0.646441</td>\n",
       "      <td>1.462570e+07</td>\n",
       "      <td>3.982332e+07</td>\n",
       "      <td>102.070863</td>\n",
       "      <td>217.389748</td>\n",
       "      <td>5.974922</td>\n",
       "      <td>2001.322658</td>\n",
       "      <td>1.755104e+07</td>\n",
       "      <td>5.136436e+07</td>\n",
       "    </tr>\n",
       "    <tr>\n",
       "      <th>std</th>\n",
       "      <td>92130.136561</td>\n",
       "      <td>1.000185</td>\n",
       "      <td>3.091321e+07</td>\n",
       "      <td>1.170035e+08</td>\n",
       "      <td>31.381405</td>\n",
       "      <td>575.619058</td>\n",
       "      <td>0.935142</td>\n",
       "      <td>12.812941</td>\n",
       "      <td>3.430616e+07</td>\n",
       "      <td>1.446325e+08</td>\n",
       "    </tr>\n",
       "    <tr>\n",
       "      <th>min</th>\n",
       "      <td>5.000000</td>\n",
       "      <td>0.000065</td>\n",
       "      <td>0.000000e+00</td>\n",
       "      <td>0.000000e+00</td>\n",
       "      <td>0.000000</td>\n",
       "      <td>10.000000</td>\n",
       "      <td>1.500000</td>\n",
       "      <td>1960.000000</td>\n",
       "      <td>0.000000e+00</td>\n",
       "      <td>0.000000e+00</td>\n",
       "    </tr>\n",
       "    <tr>\n",
       "      <th>25%</th>\n",
       "      <td>10596.250000</td>\n",
       "      <td>0.207583</td>\n",
       "      <td>0.000000e+00</td>\n",
       "      <td>0.000000e+00</td>\n",
       "      <td>90.000000</td>\n",
       "      <td>17.000000</td>\n",
       "      <td>5.400000</td>\n",
       "      <td>1995.000000</td>\n",
       "      <td>0.000000e+00</td>\n",
       "      <td>0.000000e+00</td>\n",
       "    </tr>\n",
       "    <tr>\n",
       "      <th>50%</th>\n",
       "      <td>20669.000000</td>\n",
       "      <td>0.383856</td>\n",
       "      <td>0.000000e+00</td>\n",
       "      <td>0.000000e+00</td>\n",
       "      <td>99.000000</td>\n",
       "      <td>38.000000</td>\n",
       "      <td>6.000000</td>\n",
       "      <td>2006.000000</td>\n",
       "      <td>0.000000e+00</td>\n",
       "      <td>0.000000e+00</td>\n",
       "    </tr>\n",
       "    <tr>\n",
       "      <th>75%</th>\n",
       "      <td>75610.000000</td>\n",
       "      <td>0.713817</td>\n",
       "      <td>1.500000e+07</td>\n",
       "      <td>2.400000e+07</td>\n",
       "      <td>111.000000</td>\n",
       "      <td>145.750000</td>\n",
       "      <td>6.600000</td>\n",
       "      <td>2011.000000</td>\n",
       "      <td>2.085325e+07</td>\n",
       "      <td>3.369710e+07</td>\n",
       "    </tr>\n",
       "    <tr>\n",
       "      <th>max</th>\n",
       "      <td>417859.000000</td>\n",
       "      <td>32.985763</td>\n",
       "      <td>4.250000e+08</td>\n",
       "      <td>2.781506e+09</td>\n",
       "      <td>900.000000</td>\n",
       "      <td>9767.000000</td>\n",
       "      <td>9.200000</td>\n",
       "      <td>2015.000000</td>\n",
       "      <td>4.250000e+08</td>\n",
       "      <td>2.827124e+09</td>\n",
       "    </tr>\n",
       "  </tbody>\n",
       "</table>\n",
       "</div>"
      ],
      "text/plain": [
       "                  id    popularity        budget       revenue       runtime  \\\n",
       "count   10866.000000  10866.000000  1.086600e+04  1.086600e+04  10866.000000   \n",
       "mean    66064.177434      0.646441  1.462570e+07  3.982332e+07    102.070863   \n",
       "std     92130.136561      1.000185  3.091321e+07  1.170035e+08     31.381405   \n",
       "min         5.000000      0.000065  0.000000e+00  0.000000e+00      0.000000   \n",
       "25%     10596.250000      0.207583  0.000000e+00  0.000000e+00     90.000000   \n",
       "50%     20669.000000      0.383856  0.000000e+00  0.000000e+00     99.000000   \n",
       "75%     75610.000000      0.713817  1.500000e+07  2.400000e+07    111.000000   \n",
       "max    417859.000000     32.985763  4.250000e+08  2.781506e+09    900.000000   \n",
       "\n",
       "         vote_count  vote_average  release_year    budget_adj   revenue_adj  \n",
       "count  10866.000000  10866.000000  10866.000000  1.086600e+04  1.086600e+04  \n",
       "mean     217.389748      5.974922   2001.322658  1.755104e+07  5.136436e+07  \n",
       "std      575.619058      0.935142     12.812941  3.430616e+07  1.446325e+08  \n",
       "min       10.000000      1.500000   1960.000000  0.000000e+00  0.000000e+00  \n",
       "25%       17.000000      5.400000   1995.000000  0.000000e+00  0.000000e+00  \n",
       "50%       38.000000      6.000000   2006.000000  0.000000e+00  0.000000e+00  \n",
       "75%      145.750000      6.600000   2011.000000  2.085325e+07  3.369710e+07  \n",
       "max     9767.000000      9.200000   2015.000000  4.250000e+08  2.827124e+09  "
      ]
     },
     "execution_count": 7,
     "metadata": {},
     "output_type": "execute_result"
    }
   ],
   "source": [
    "df.describe()"
   ]
  },
  {
   "cell_type": "markdown",
   "metadata": {},
   "source": [
    "Checking if there is empty or duplicated values in our data"
   ]
  },
  {
   "cell_type": "code",
   "execution_count": 8,
   "metadata": {
    "scrolled": true
   },
   "outputs": [
    {
     "data": {
      "text/plain": [
       "id                         0\n",
       "imdb_id                   10\n",
       "popularity                 0\n",
       "budget                     0\n",
       "revenue                    0\n",
       "original_title             0\n",
       "cast                      76\n",
       "homepage                7930\n",
       "director                  44\n",
       "tagline                 2824\n",
       "keywords                1493\n",
       "overview                   4\n",
       "runtime                    0\n",
       "genres                    23\n",
       "production_companies    1030\n",
       "release_date               0\n",
       "vote_count                 0\n",
       "vote_average               0\n",
       "release_year               0\n",
       "budget_adj                 0\n",
       "revenue_adj                0\n",
       "dtype: int64"
      ]
     },
     "execution_count": 8,
     "metadata": {},
     "output_type": "execute_result"
    }
   ],
   "source": [
    "df.isna().sum()"
   ]
  },
  {
   "cell_type": "code",
   "execution_count": 9,
   "metadata": {
    "scrolled": true
   },
   "outputs": [
    {
     "data": {
      "text/plain": [
       "1"
      ]
     },
     "execution_count": 9,
     "metadata": {},
     "output_type": "execute_result"
    }
   ],
   "source": [
    "df.duplicated().sum()"
   ]
  },
  {
   "cell_type": "markdown",
   "metadata": {},
   "source": [
    "### Data Cleaning\n"
   ]
  },
  {
   "cell_type": "markdown",
   "metadata": {},
   "source": [
    "Let's drop duplicates which are not that much."
   ]
  },
  {
   "cell_type": "code",
   "execution_count": 10,
   "metadata": {},
   "outputs": [
    {
     "data": {
      "text/plain": [
       "0"
      ]
     },
     "execution_count": 10,
     "metadata": {},
     "output_type": "execute_result"
    }
   ],
   "source": [
    "df.drop_duplicates(inplace=True)\n",
    "df.duplicated().sum()"
   ]
  },
  {
   "cell_type": "markdown",
   "metadata": {},
   "source": [
    "I will be working with the cast column and it contains few missing data so I chose to drop them."
   ]
  },
  {
   "cell_type": "code",
   "execution_count": 11,
   "metadata": {},
   "outputs": [],
   "source": [
    "df = df.dropna(subset=['cast'])"
   ]
  },
  {
   "cell_type": "code",
   "execution_count": 12,
   "metadata": {},
   "outputs": [
    {
     "data": {
      "text/plain": [
       "id                         0\n",
       "imdb_id                   10\n",
       "popularity                 0\n",
       "budget                     0\n",
       "revenue                    0\n",
       "original_title             0\n",
       "cast                       0\n",
       "homepage                7881\n",
       "director                  38\n",
       "tagline                 2774\n",
       "keywords                1462\n",
       "overview                   4\n",
       "runtime                    0\n",
       "genres                    22\n",
       "production_companies     990\n",
       "release_date               0\n",
       "vote_count                 0\n",
       "vote_average               0\n",
       "release_year               0\n",
       "budget_adj                 0\n",
       "revenue_adj                0\n",
       "dtype: int64"
      ]
     },
     "execution_count": 12,
     "metadata": {},
     "output_type": "execute_result"
    }
   ],
   "source": [
    "df.isna().sum()"
   ]
  },
  {
   "cell_type": "markdown",
   "metadata": {},
   "source": [
    "Dropping unecessary columns in my current analysis."
   ]
  },
  {
   "cell_type": "code",
   "execution_count": 13,
   "metadata": {},
   "outputs": [],
   "source": [
    "df.drop(['id','imdb_id','homepage','tagline','overview','budget_adj','revenue_adj'],axis =1,inplace = True)\n"
   ]
  },
  {
   "cell_type": "markdown",
   "metadata": {},
   "source": [
    "Date is in a string format but it's prefrable to change it to date format which will make it easy to deal with"
   ]
  },
  {
   "cell_type": "code",
   "execution_count": 14,
   "metadata": {},
   "outputs": [],
   "source": [
    "df['release_date']=pd.to_datetime(df['release_date'])"
   ]
  },
  {
   "cell_type": "markdown",
   "metadata": {},
   "source": [
    "<a id='eda'></a>\n",
    "## Exploratory Data Analysis\n",
    "\n",
    "\n",
    "### Research Question 1 (Which genre appears the most in movies?)"
   ]
  },
  {
   "cell_type": "markdown",
   "metadata": {},
   "source": [
    "This function will help me collect all the genres and count its appearences."
   ]
  },
  {
   "cell_type": "code",
   "execution_count": 15,
   "metadata": {},
   "outputs": [],
   "source": [
    "def collect_data(x):\n",
    "    data_cat = df[x].str.cat(sep = '|')\n",
    "    data = data_cat.split('|')\n",
    "    data_ser = pd.Series(data)\n",
    "    res = data_ser.value_counts(ascending=True)\n",
    "    return res"
   ]
  },
  {
   "cell_type": "code",
   "execution_count": 16,
   "metadata": {
    "scrolled": true
   },
   "outputs": [],
   "source": [
    "res = collect_data('genres')"
   ]
  },
  {
   "cell_type": "code",
   "execution_count": 17,
   "metadata": {},
   "outputs": [
    {
     "data": {
      "text/plain": [
       "Text(0,0.5,'Genres')"
      ]
     },
     "execution_count": 17,
     "metadata": {},
     "output_type": "execute_result"
    },
    {
     "data": {
      "image/png": "[encoded data removed]",
      "text/plain": [
       "<matplotlib.figure.Figure at 0x7fdc8f3aa588>"
      ]
     },
     "metadata": {
      "needs_background": "light"
     },
     "output_type": "display_data"
    }
   ],
   "source": [
    "res.plot(kind= 'barh',figsize = (20,10), fontsize=12)\n",
    "#setup the title of the plot.\n",
    "plt.title(\"Genres Appearences in Movies\", fontsize=20 )\n",
    "#setup the x and y labels of the plot.\n",
    "plt.xlabel('Number Of Movies',fontsize=15)\n",
    "plt.ylabel('Genres',fontsize= 15)"
   ]
  },
  {
   "cell_type": "markdown",
   "metadata": {},
   "source": [
    "The drama genre has the biggest number of releases, followed by comedies and thrillers, based on the plot."
   ]
  },
  {
   "cell_type": "markdown",
   "metadata": {},
   "source": [
    "### Research Question 2  (Which star cast appears most in movies and does its existance influence revenue?)"
   ]
  },
  {
   "cell_type": "markdown",
   "metadata": {},
   "source": [
    "I will use the same function with the cast(both the cast and genre are separated with|)"
   ]
  },
  {
   "cell_type": "code",
   "execution_count": 18,
   "metadata": {},
   "outputs": [],
   "source": [
    "res2 = collect_data('cast')"
   ]
  },
  {
   "cell_type": "markdown",
   "metadata": {},
   "source": [
    "I will take just the ones over 50 which are 6"
   ]
  },
  {
   "cell_type": "code",
   "execution_count": 19,
   "metadata": {},
   "outputs": [],
   "source": [
    "res3 = res2[lambda x: x>50]"
   ]
  },
  {
   "cell_type": "code",
   "execution_count": 20,
   "metadata": {},
   "outputs": [
    {
     "data": {
      "text/plain": [
       "<matplotlib.legend.Legend at 0x7fdc8f2d8e48>"
      ]
     },
     "execution_count": 20,
     "metadata": {},
     "output_type": "execute_result"
    },
    {
     "data": {
      "image/png": "[encoded data removed]",
      "text/plain": [
       "<matplotlib.figure.Figure at 0x7fdc8f07e080>"
      ]
     },
     "metadata": {},
     "output_type": "display_data"
    }
   ],
   "source": [
    "res3.plot(kind= 'pie',autopct='%1.0f%%', colors=['fuchsia', 'pink', 'plum','purple','thistle','violet'],figsize = (20,10), fontsize=12)\n",
    "#setup the title of the plot.\n",
    "plt.title(\"Star's Appearences in Movies (Top 6)\", fontsize=20 )\n",
    "plt.legend(res3,loc=3)"
   ]
  },
  {
   "cell_type": "markdown",
   "metadata": {},
   "source": [
    "Based on this chart Robert De Niro and  Samuel L.Jackson appears the most in the movies of this dataset but does their appearence influence the profit?"
   ]
  },
  {
   "cell_type": "markdown",
   "metadata": {},
   "source": [
    "This function will add 1 to the column each time one of the TOP6 starts appears in the cast."
   ]
  },
  {
   "cell_type": "code",
   "execution_count": 21,
   "metadata": {},
   "outputs": [],
   "source": [
    "res_list=[]\n",
    "actors = ['Robin Williams', 'Michael Caine', 'Nicolas Cage', 'Bruce Willis', 'Samuel L. Jackson', 'Robert De Niro' ]\n",
    "for index, value in df['cast'].items():\n",
    "    split_data = value.split('|')\n",
    "    for  value1 in split_data:\n",
    "        if value1 in actors:\n",
    "            res_list.append(1)\n",
    "        else:\n",
    "            res_list.append(0)\n",
    "        break\n"
   ]
  },
  {
   "cell_type": "code",
   "execution_count": 22,
   "metadata": {},
   "outputs": [],
   "source": [
    "df['top6_Star']=res_list"
   ]
  },
  {
   "cell_type": "markdown",
   "metadata": {},
   "source": [
    "Let's have a look at the revenue based on the existance of the top6 stars."
   ]
  },
  {
   "cell_type": "code",
   "execution_count": 23,
   "metadata": {},
   "outputs": [
    {
     "data": {
      "text/plain": [
       "top6_Star\n",
       "0    3.946984e+07\n",
       "1    7.144914e+07\n",
       "Name: revenue, dtype: float64"
      ]
     },
     "execution_count": 23,
     "metadata": {},
     "output_type": "execute_result"
    }
   ],
   "source": [
    "df.groupby('top6_Star')['revenue'].mean()"
   ]
  },
  {
   "cell_type": "markdown",
   "metadata": {},
   "source": [
    "Those results showcase that the starts existance do influence the profits of the movie."
   ]
  },
  {
   "cell_type": "markdown",
   "metadata": {},
   "source": [
    "### Research Question 3 (What kinds of factors are connected to movies that bring in huge profits?)"
   ]
  },
  {
   "cell_type": "markdown",
   "metadata": {},
   "source": [
    "Let's add a column profits to our dataset"
   ]
  },
  {
   "cell_type": "code",
   "execution_count": 24,
   "metadata": {},
   "outputs": [],
   "source": [
    "df['profits'] =  df['revenue'] - df['budget']"
   ]
  },
  {
   "cell_type": "code",
   "execution_count": 25,
   "metadata": {},
   "outputs": [
    {
     "data": {
      "text/plain": [
       "top6_Star\n",
       "0    2.510125e+07\n",
       "1    3.910061e+07\n",
       "Name: profits, dtype: float64"
      ]
     },
     "execution_count": 25,
     "metadata": {},
     "output_type": "execute_result"
    }
   ],
   "source": [
    "df.groupby('top6_Star')['profits'].mean()"
   ]
  },
  {
   "cell_type": "markdown",
   "metadata": {},
   "source": [
    "We'll simply use the corrolation matrix."
   ]
  },
  {
   "cell_type": "code",
   "execution_count": 26,
   "metadata": {
    "scrolled": true
   },
   "outputs": [],
   "source": [
    "corr = df.corr()"
   ]
  },
  {
   "cell_type": "code",
   "execution_count": 27,
   "metadata": {},
   "outputs": [
    {
     "data": {
      "text/html": [
       "<style  type=\"text/css\" >\n",
       "    #T_10cdb17c_17f2_11ed_a1c1_0242ac120002row0_col0 {\n",
       "            background-color:  #b40426;\n",
       "        }    #T_10cdb17c_17f2_11ed_a1c1_0242ac120002row0_col1 {\n",
       "            background-color:  #dedcdb;\n",
       "        }    #T_10cdb17c_17f2_11ed_a1c1_0242ac120002row0_col2 {\n",
       "            background-color:  #f6bda2;\n",
       "        }    #T_10cdb17c_17f2_11ed_a1c1_0242ac120002row0_col3 {\n",
       "            background-color:  #85a8fc;\n",
       "        }    #T_10cdb17c_17f2_11ed_a1c1_0242ac120002row0_col4 {\n",
       "            background-color:  #ee8669;\n",
       "        }    #T_10cdb17c_17f2_11ed_a1c1_0242ac120002row0_col5 {\n",
       "            background-color:  #9ebeff;\n",
       "        }    #T_10cdb17c_17f2_11ed_a1c1_0242ac120002row0_col6 {\n",
       "            background-color:  #779af7;\n",
       "        }    #T_10cdb17c_17f2_11ed_a1c1_0242ac120002row0_col7 {\n",
       "            background-color:  #4b64d5;\n",
       "        }    #T_10cdb17c_17f2_11ed_a1c1_0242ac120002row0_col8 {\n",
       "            background-color:  #f4c5ad;\n",
       "        }    #T_10cdb17c_17f2_11ed_a1c1_0242ac120002row1_col0 {\n",
       "            background-color:  #e3d9d3;\n",
       "        }    #T_10cdb17c_17f2_11ed_a1c1_0242ac120002row1_col1 {\n",
       "            background-color:  #b40426;\n",
       "        }    #T_10cdb17c_17f2_11ed_a1c1_0242ac120002row1_col2 {\n",
       "            background-color:  #f6a385;\n",
       "        }    #T_10cdb17c_17f2_11ed_a1c1_0242ac120002row1_col3 {\n",
       "            background-color:  #96b7ff;\n",
       "        }    #T_10cdb17c_17f2_11ed_a1c1_0242ac120002row1_col4 {\n",
       "            background-color:  #f4c6af;\n",
       "        }    #T_10cdb17c_17f2_11ed_a1c1_0242ac120002row1_col5 {\n",
       "            background-color:  #7699f6;\n",
       "        }    #T_10cdb17c_17f2_11ed_a1c1_0242ac120002row1_col6 {\n",
       "            background-color:  #80a3fa;\n",
       "        }    #T_10cdb17c_17f2_11ed_a1c1_0242ac120002row1_col7 {\n",
       "            background-color:  #5875e1;\n",
       "        }    #T_10cdb17c_17f2_11ed_a1c1_0242ac120002row1_col8 {\n",
       "            background-color:  #ebd3c6;\n",
       "        }    #T_10cdb17c_17f2_11ed_a1c1_0242ac120002row2_col0 {\n",
       "            background-color:  #f6bda2;\n",
       "        }    #T_10cdb17c_17f2_11ed_a1c1_0242ac120002row2_col1 {\n",
       "            background-color:  #f7a889;\n",
       "        }    #T_10cdb17c_17f2_11ed_a1c1_0242ac120002row2_col2 {\n",
       "            background-color:  #b40426;\n",
       "        }    #T_10cdb17c_17f2_11ed_a1c1_0242ac120002row2_col3 {\n",
       "            background-color:  #8db0fe;\n",
       "        }    #T_10cdb17c_17f2_11ed_a1c1_0242ac120002row2_col4 {\n",
       "            background-color:  #f08b6e;\n",
       "        }    #T_10cdb17c_17f2_11ed_a1c1_0242ac120002row2_col5 {\n",
       "            background-color:  #93b5fe;\n",
       "        }    #T_10cdb17c_17f2_11ed_a1c1_0242ac120002row2_col6 {\n",
       "            background-color:  #6e90f2;\n",
       "        }    #T_10cdb17c_17f2_11ed_a1c1_0242ac120002row2_col7 {\n",
       "            background-color:  #4a63d3;\n",
       "        }    #T_10cdb17c_17f2_11ed_a1c1_0242ac120002row2_col8 {\n",
       "            background-color:  #bd1f2d;\n",
       "        }    #T_10cdb17c_17f2_11ed_a1c1_0242ac120002row3_col0 {\n",
       "            background-color:  #5a78e4;\n",
       "        }    #T_10cdb17c_17f2_11ed_a1c1_0242ac120002row3_col1 {\n",
       "            background-color:  #5f7fe8;\n",
       "        }    #T_10cdb17c_17f2_11ed_a1c1_0242ac120002row3_col2 {\n",
       "            background-color:  #6384eb;\n",
       "        }    #T_10cdb17c_17f2_11ed_a1c1_0242ac120002row3_col3 {\n",
       "            background-color:  #b40426;\n",
       "        }    #T_10cdb17c_17f2_11ed_a1c1_0242ac120002row3_col4 {\n",
       "            background-color:  #6485ec;\n",
       "        }    #T_10cdb17c_17f2_11ed_a1c1_0242ac120002row3_col5 {\n",
       "            background-color:  #90b2fe;\n",
       "        }    #T_10cdb17c_17f2_11ed_a1c1_0242ac120002row3_col6 {\n",
       "            background-color:  #3b4cc0;\n",
       "        }    #T_10cdb17c_17f2_11ed_a1c1_0242ac120002row3_col7 {\n",
       "            background-color:  #4961d2;\n",
       "        }    #T_10cdb17c_17f2_11ed_a1c1_0242ac120002row3_col8 {\n",
       "            background-color:  #5f7fe8;\n",
       "        }    #T_10cdb17c_17f2_11ed_a1c1_0242ac120002row4_col0 {\n",
       "            background-color:  #ef886b;\n",
       "        }    #T_10cdb17c_17f2_11ed_a1c1_0242ac120002row4_col1 {\n",
       "            background-color:  #f2cbb7;\n",
       "        }    #T_10cdb17c_17f2_11ed_a1c1_0242ac120002row4_col2 {\n",
       "            background-color:  #f08b6e;\n",
       "        }    #T_10cdb17c_17f2_11ed_a1c1_0242ac120002row4_col3 {\n",
       "            background-color:  #8db0fe;\n",
       "        }    #T_10cdb17c_17f2_11ed_a1c1_0242ac120002row4_col4 {\n",
       "            background-color:  #b40426;\n",
       "        }    #T_10cdb17c_17f2_11ed_a1c1_0242ac120002row4_col5 {\n",
       "            background-color:  #abc8fd;\n",
       "        }    #T_10cdb17c_17f2_11ed_a1c1_0242ac120002row4_col6 {\n",
       "            background-color:  #7da0f9;\n",
       "        }    #T_10cdb17c_17f2_11ed_a1c1_0242ac120002row4_col7 {\n",
       "            background-color:  #4a63d3;\n",
       "        }    #T_10cdb17c_17f2_11ed_a1c1_0242ac120002row4_col8 {\n",
       "            background-color:  #f4987a;\n",
       "        }    #T_10cdb17c_17f2_11ed_a1c1_0242ac120002row5_col0 {\n",
       "            background-color:  #7597f6;\n",
       "        }    #T_10cdb17c_17f2_11ed_a1c1_0242ac120002row5_col1 {\n",
       "            background-color:  #3c4ec2;\n",
       "        }    #T_10cdb17c_17f2_11ed_a1c1_0242ac120002row5_col2 {\n",
       "            background-color:  #6788ee;\n",
       "        }    #T_10cdb17c_17f2_11ed_a1c1_0242ac120002row5_col3 {\n",
       "            background-color:  #90b2fe;\n",
       "        }    #T_10cdb17c_17f2_11ed_a1c1_0242ac120002row5_col4 {\n",
       "            background-color:  #86a9fc;\n",
       "        }    #T_10cdb17c_17f2_11ed_a1c1_0242ac120002row5_col5 {\n",
       "            background-color:  #b40426;\n",
       "        }    #T_10cdb17c_17f2_11ed_a1c1_0242ac120002row5_col6 {\n",
       "            background-color:  #3b4cc0;\n",
       "        }    #T_10cdb17c_17f2_11ed_a1c1_0242ac120002row5_col7 {\n",
       "            background-color:  #4257c9;\n",
       "        }    #T_10cdb17c_17f2_11ed_a1c1_0242ac120002row5_col8 {\n",
       "            background-color:  #7093f3;\n",
       "        }    #T_10cdb17c_17f2_11ed_a1c1_0242ac120002row6_col0 {\n",
       "            background-color:  #4a63d3;\n",
       "        }    #T_10cdb17c_17f2_11ed_a1c1_0242ac120002row6_col1 {\n",
       "            background-color:  #465ecf;\n",
       "        }    #T_10cdb17c_17f2_11ed_a1c1_0242ac120002row6_col2 {\n",
       "            background-color:  #4055c8;\n",
       "        }    #T_10cdb17c_17f2_11ed_a1c1_0242ac120002row6_col3 {\n",
       "            background-color:  #3b4cc0;\n",
       "        }    #T_10cdb17c_17f2_11ed_a1c1_0242ac120002row6_col4 {\n",
       "            background-color:  #516ddb;\n",
       "        }    #T_10cdb17c_17f2_11ed_a1c1_0242ac120002row6_col5 {\n",
       "            background-color:  #3b4cc0;\n",
       "        }    #T_10cdb17c_17f2_11ed_a1c1_0242ac120002row6_col6 {\n",
       "            background-color:  #b40426;\n",
       "        }    #T_10cdb17c_17f2_11ed_a1c1_0242ac120002row6_col7 {\n",
       "            background-color:  #3b4cc0;\n",
       "        }    #T_10cdb17c_17f2_11ed_a1c1_0242ac120002row6_col8 {\n",
       "            background-color:  #3e51c5;\n",
       "        }    #T_10cdb17c_17f2_11ed_a1c1_0242ac120002row7_col0 {\n",
       "            background-color:  #3b4cc0;\n",
       "        }    #T_10cdb17c_17f2_11ed_a1c1_0242ac120002row7_col1 {\n",
       "            background-color:  #3b4cc0;\n",
       "        }    #T_10cdb17c_17f2_11ed_a1c1_0242ac120002row7_col2 {\n",
       "            background-color:  #3b4cc0;\n",
       "        }    #T_10cdb17c_17f2_11ed_a1c1_0242ac120002row7_col3 {\n",
       "            background-color:  #6687ed;\n",
       "        }    #T_10cdb17c_17f2_11ed_a1c1_0242ac120002row7_col4 {\n",
       "            background-color:  #3b4cc0;\n",
       "        }    #T_10cdb17c_17f2_11ed_a1c1_0242ac120002row7_col5 {\n",
       "            background-color:  #5e7de7;\n",
       "        }    #T_10cdb17c_17f2_11ed_a1c1_0242ac120002row7_col6 {\n",
       "            background-color:  #5673e0;\n",
       "        }    #T_10cdb17c_17f2_11ed_a1c1_0242ac120002row7_col7 {\n",
       "            background-color:  #b40426;\n",
       "        }    #T_10cdb17c_17f2_11ed_a1c1_0242ac120002row7_col8 {\n",
       "            background-color:  #3b4cc0;\n",
       "        }    #T_10cdb17c_17f2_11ed_a1c1_0242ac120002row8_col0 {\n",
       "            background-color:  #f3c7b1;\n",
       "        }    #T_10cdb17c_17f2_11ed_a1c1_0242ac120002row8_col1 {\n",
       "            background-color:  #e5d8d1;\n",
       "        }    #T_10cdb17c_17f2_11ed_a1c1_0242ac120002row8_col2 {\n",
       "            background-color:  #bd1f2d;\n",
       "        }    #T_10cdb17c_17f2_11ed_a1c1_0242ac120002row8_col3 {\n",
       "            background-color:  #85a8fc;\n",
       "        }    #T_10cdb17c_17f2_11ed_a1c1_0242ac120002row8_col4 {\n",
       "            background-color:  #f49a7b;\n",
       "        }    #T_10cdb17c_17f2_11ed_a1c1_0242ac120002row8_col5 {\n",
       "            background-color:  #96b7ff;\n",
       "        }    #T_10cdb17c_17f2_11ed_a1c1_0242ac120002row8_col6 {\n",
       "            background-color:  #6687ed;\n",
       "        }    #T_10cdb17c_17f2_11ed_a1c1_0242ac120002row8_col7 {\n",
       "            background-color:  #455cce;\n",
       "        }    #T_10cdb17c_17f2_11ed_a1c1_0242ac120002row8_col8 {\n",
       "            background-color:  #b40426;\n",
       "        }</style>  \n",
       "<table id=\"T_10cdb17c_17f2_11ed_a1c1_0242ac120002\" > \n",
       "<thead>    <tr> \n",
       "        <th class=\"blank level0\" ></th> \n",
       "        <th class=\"col_heading level0 col0\" >popularity</th> \n",
       "        <th class=\"col_heading level0 col1\" >budget</th> \n",
       "        <th class=\"col_heading level0 col2\" >revenue</th> \n",
       "        <th class=\"col_heading level0 col3\" >runtime</th> \n",
       "        <th class=\"col_heading level0 col4\" >vote_count</th> \n",
       "        <th class=\"col_heading level0 col5\" >vote_average</th> \n",
       "        <th class=\"col_heading level0 col6\" >release_year</th> \n",
       "        <th class=\"col_heading level0 col7\" >top6_Star</th> \n",
       "        <th class=\"col_heading level0 col8\" >profits</th> \n",
       "    </tr></thead> \n",
       "<tbody>    <tr> \n",
       "        <th id=\"T_10cdb17c_17f2_11ed_a1c1_0242ac120002level0_row0\" class=\"row_heading level0 row0\" >popularity</th> \n",
       "        <td id=\"T_10cdb17c_17f2_11ed_a1c1_0242ac120002row0_col0\" class=\"data row0 col0\" >1</td> \n",
       "        <td id=\"T_10cdb17c_17f2_11ed_a1c1_0242ac120002row0_col1\" class=\"data row0 col1\" >0.544787</td> \n",
       "        <td id=\"T_10cdb17c_17f2_11ed_a1c1_0242ac120002row0_col2\" class=\"data row0 col2\" >0.663084</td> \n",
       "        <td id=\"T_10cdb17c_17f2_11ed_a1c1_0242ac120002row0_col3\" class=\"data row0 col3\" >0.137416</td> \n",
       "        <td id=\"T_10cdb17c_17f2_11ed_a1c1_0242ac120002row0_col4\" class=\"data row0 col4\" >0.800731</td> \n",
       "        <td id=\"T_10cdb17c_17f2_11ed_a1c1_0242ac120002row0_col5\" class=\"data row0 col5\" >0.214584</td> \n",
       "        <td id=\"T_10cdb17c_17f2_11ed_a1c1_0242ac120002row0_col6\" class=\"data row0 col6\" >0.0916414</td> \n",
       "        <td id=\"T_10cdb17c_17f2_11ed_a1c1_0242ac120002row0_col7\" class=\"data row0 col7\" >0.0398255</td> \n",
       "        <td id=\"T_10cdb17c_17f2_11ed_a1c1_0242ac120002row0_col8\" class=\"data row0 col8\" >0.628846</td> \n",
       "    </tr>    <tr> \n",
       "        <th id=\"T_10cdb17c_17f2_11ed_a1c1_0242ac120002level0_row1\" class=\"row_heading level0 row1\" >budget</th> \n",
       "        <td id=\"T_10cdb17c_17f2_11ed_a1c1_0242ac120002row1_col0\" class=\"data row1 col0\" >0.544787</td> \n",
       "        <td id=\"T_10cdb17c_17f2_11ed_a1c1_0242ac120002row1_col1\" class=\"data row1 col1\" >1</td> \n",
       "        <td id=\"T_10cdb17c_17f2_11ed_a1c1_0242ac120002row1_col2\" class=\"data row1 col2\" >0.734682</td> \n",
       "        <td id=\"T_10cdb17c_17f2_11ed_a1c1_0242ac120002row1_col3\" class=\"data row1 col3\" >0.190305</td> \n",
       "        <td id=\"T_10cdb17c_17f2_11ed_a1c1_0242ac120002row1_col4\" class=\"data row1 col4\" >0.632371</td> \n",
       "        <td id=\"T_10cdb17c_17f2_11ed_a1c1_0242ac120002row1_col5\" class=\"data row1 col5\" >0.0848711</td> \n",
       "        <td id=\"T_10cdb17c_17f2_11ed_a1c1_0242ac120002row1_col6\" class=\"data row1 col6\" >0.11758</td> \n",
       "        <td id=\"T_10cdb17c_17f2_11ed_a1c1_0242ac120002row1_col7\" class=\"data row1 col7\" >0.0808763</td> \n",
       "        <td id=\"T_10cdb17c_17f2_11ed_a1c1_0242ac120002row1_col8\" class=\"data row1 col8\" >0.569948</td> \n",
       "    </tr>    <tr> \n",
       "        <th id=\"T_10cdb17c_17f2_11ed_a1c1_0242ac120002level0_row2\" class=\"row_heading level0 row2\" >revenue</th> \n",
       "        <td id=\"T_10cdb17c_17f2_11ed_a1c1_0242ac120002row2_col0\" class=\"data row2 col0\" >0.663084</td> \n",
       "        <td id=\"T_10cdb17c_17f2_11ed_a1c1_0242ac120002row2_col1\" class=\"data row2 col1\" >0.734682</td> \n",
       "        <td id=\"T_10cdb17c_17f2_11ed_a1c1_0242ac120002row2_col2\" class=\"data row2 col2\" >1</td> \n",
       "        <td id=\"T_10cdb17c_17f2_11ed_a1c1_0242ac120002row2_col3\" class=\"data row2 col3\" >0.162476</td> \n",
       "        <td id=\"T_10cdb17c_17f2_11ed_a1c1_0242ac120002row2_col4\" class=\"data row2 col4\" >0.791022</td> \n",
       "        <td id=\"T_10cdb17c_17f2_11ed_a1c1_0242ac120002row2_col5\" class=\"data row2 col5\" >0.176121</td> \n",
       "        <td id=\"T_10cdb17c_17f2_11ed_a1c1_0242ac120002row2_col6\" class=\"data row2 col6\" >0.0581277</td> \n",
       "        <td id=\"T_10cdb17c_17f2_11ed_a1c1_0242ac120002row2_col7\" class=\"data row2 col7\" >0.0379917</td> \n",
       "        <td id=\"T_10cdb17c_17f2_11ed_a1c1_0242ac120002row2_col8\" class=\"data row2 col8\" >0.976168</td> \n",
       "    </tr>    <tr> \n",
       "        <th id=\"T_10cdb17c_17f2_11ed_a1c1_0242ac120002level0_row3\" class=\"row_heading level0 row3\" >runtime</th> \n",
       "        <td id=\"T_10cdb17c_17f2_11ed_a1c1_0242ac120002row3_col0\" class=\"data row3 col0\" >0.137416</td> \n",
       "        <td id=\"T_10cdb17c_17f2_11ed_a1c1_0242ac120002row3_col1\" class=\"data row3 col1\" >0.190305</td> \n",
       "        <td id=\"T_10cdb17c_17f2_11ed_a1c1_0242ac120002row3_col2\" class=\"data row3 col2\" >0.162476</td> \n",
       "        <td id=\"T_10cdb17c_17f2_11ed_a1c1_0242ac120002row3_col3\" class=\"data row3 col3\" >1</td> \n",
       "        <td id=\"T_10cdb17c_17f2_11ed_a1c1_0242ac120002row3_col4\" class=\"data row3 col4\" >0.163139</td> \n",
       "        <td id=\"T_10cdb17c_17f2_11ed_a1c1_0242ac120002row3_col5\" class=\"data row3 col5\" >0.170453</td> \n",
       "        <td id=\"T_10cdb17c_17f2_11ed_a1c1_0242ac120002row3_col6\" class=\"data row3 col6\" >-0.120235</td> \n",
       "        <td id=\"T_10cdb17c_17f2_11ed_a1c1_0242ac120002row3_col7\" class=\"data row3 col7\" >0.0337502</td> \n",
       "        <td id=\"T_10cdb17c_17f2_11ed_a1c1_0242ac120002row3_col8\" class=\"data row3 col8\" >0.135912</td> \n",
       "    </tr>    <tr> \n",
       "        <th id=\"T_10cdb17c_17f2_11ed_a1c1_0242ac120002level0_row4\" class=\"row_heading level0 row4\" >vote_count</th> \n",
       "        <td id=\"T_10cdb17c_17f2_11ed_a1c1_0242ac120002row4_col0\" class=\"data row4 col0\" >0.800731</td> \n",
       "        <td id=\"T_10cdb17c_17f2_11ed_a1c1_0242ac120002row4_col1\" class=\"data row4 col1\" >0.632371</td> \n",
       "        <td id=\"T_10cdb17c_17f2_11ed_a1c1_0242ac120002row4_col2\" class=\"data row4 col2\" >0.791022</td> \n",
       "        <td id=\"T_10cdb17c_17f2_11ed_a1c1_0242ac120002row4_col3\" class=\"data row4 col3\" >0.163139</td> \n",
       "        <td id=\"T_10cdb17c_17f2_11ed_a1c1_0242ac120002row4_col4\" class=\"data row4 col4\" >1</td> \n",
       "        <td id=\"T_10cdb17c_17f2_11ed_a1c1_0242ac120002row4_col5\" class=\"data row4 col5\" >0.257756</td> \n",
       "        <td id=\"T_10cdb17c_17f2_11ed_a1c1_0242ac120002row4_col6\" class=\"data row4 col6\" >0.109224</td> \n",
       "        <td id=\"T_10cdb17c_17f2_11ed_a1c1_0242ac120002row4_col7\" class=\"data row4 col7\" >0.0340827</td> \n",
       "        <td id=\"T_10cdb17c_17f2_11ed_a1c1_0242ac120002row4_col8\" class=\"data row4 col8\" >0.755785</td> \n",
       "    </tr>    <tr> \n",
       "        <th id=\"T_10cdb17c_17f2_11ed_a1c1_0242ac120002level0_row5\" class=\"row_heading level0 row5\" >vote_average</th> \n",
       "        <td id=\"T_10cdb17c_17f2_11ed_a1c1_0242ac120002row5_col0\" class=\"data row5 col0\" >0.214584</td> \n",
       "        <td id=\"T_10cdb17c_17f2_11ed_a1c1_0242ac120002row5_col1\" class=\"data row5 col1\" >0.0848711</td> \n",
       "        <td id=\"T_10cdb17c_17f2_11ed_a1c1_0242ac120002row5_col2\" class=\"data row5 col2\" >0.176121</td> \n",
       "        <td id=\"T_10cdb17c_17f2_11ed_a1c1_0242ac120002row5_col3\" class=\"data row5 col3\" >0.170453</td> \n",
       "        <td id=\"T_10cdb17c_17f2_11ed_a1c1_0242ac120002row5_col4\" class=\"data row5 col4\" >0.257756</td> \n",
       "        <td id=\"T_10cdb17c_17f2_11ed_a1c1_0242ac120002row5_col5\" class=\"data row5 col5\" >1</td> \n",
       "        <td id=\"T_10cdb17c_17f2_11ed_a1c1_0242ac120002row5_col6\" class=\"data row5 col6\" >-0.122755</td> \n",
       "        <td id=\"T_10cdb17c_17f2_11ed_a1c1_0242ac120002row5_col7\" class=\"data row5 col7\" >0.00664407</td> \n",
       "        <td id=\"T_10cdb17c_17f2_11ed_a1c1_0242ac120002row5_col8\" class=\"data row5 col8\" >0.186166</td> \n",
       "    </tr>    <tr> \n",
       "        <th id=\"T_10cdb17c_17f2_11ed_a1c1_0242ac120002level0_row6\" class=\"row_heading level0 row6\" >release_year</th> \n",
       "        <td id=\"T_10cdb17c_17f2_11ed_a1c1_0242ac120002row6_col0\" class=\"data row6 col0\" >0.0916414</td> \n",
       "        <td id=\"T_10cdb17c_17f2_11ed_a1c1_0242ac120002row6_col1\" class=\"data row6 col1\" >0.11758</td> \n",
       "        <td id=\"T_10cdb17c_17f2_11ed_a1c1_0242ac120002row6_col2\" class=\"data row6 col2\" >0.0581277</td> \n",
       "        <td id=\"T_10cdb17c_17f2_11ed_a1c1_0242ac120002row6_col3\" class=\"data row6 col3\" >-0.120235</td> \n",
       "        <td id=\"T_10cdb17c_17f2_11ed_a1c1_0242ac120002row6_col4\" class=\"data row6 col4\" >0.109224</td> \n",
       "        <td id=\"T_10cdb17c_17f2_11ed_a1c1_0242ac120002row6_col5\" class=\"data row6 col5\" >-0.122755</td> \n",
       "        <td id=\"T_10cdb17c_17f2_11ed_a1c1_0242ac120002row6_col6\" class=\"data row6 col6\" >1</td> \n",
       "        <td id=\"T_10cdb17c_17f2_11ed_a1c1_0242ac120002row6_col7\" class=\"data row6 col7\" >-0.0176328</td> \n",
       "        <td id=\"T_10cdb17c_17f2_11ed_a1c1_0242ac120002row6_col8\" class=\"data row6 col8\" >0.032791</td> \n",
       "    </tr>    <tr> \n",
       "        <th id=\"T_10cdb17c_17f2_11ed_a1c1_0242ac120002level0_row7\" class=\"row_heading level0 row7\" >top6_Star</th> \n",
       "        <td id=\"T_10cdb17c_17f2_11ed_a1c1_0242ac120002row7_col0\" class=\"data row7 col0\" >0.0398255</td> \n",
       "        <td id=\"T_10cdb17c_17f2_11ed_a1c1_0242ac120002row7_col1\" class=\"data row7 col1\" >0.0808763</td> \n",
       "        <td id=\"T_10cdb17c_17f2_11ed_a1c1_0242ac120002row7_col2\" class=\"data row7 col2\" >0.0379917</td> \n",
       "        <td id=\"T_10cdb17c_17f2_11ed_a1c1_0242ac120002row7_col3\" class=\"data row7 col3\" >0.0337502</td> \n",
       "        <td id=\"T_10cdb17c_17f2_11ed_a1c1_0242ac120002row7_col4\" class=\"data row7 col4\" >0.0340827</td> \n",
       "        <td id=\"T_10cdb17c_17f2_11ed_a1c1_0242ac120002row7_col5\" class=\"data row7 col5\" >0.00664407</td> \n",
       "        <td id=\"T_10cdb17c_17f2_11ed_a1c1_0242ac120002row7_col6\" class=\"data row7 col6\" >-0.0176328</td> \n",
       "        <td id=\"T_10cdb17c_17f2_11ed_a1c1_0242ac120002row7_col7\" class=\"data row7 col7\" >1</td> \n",
       "        <td id=\"T_10cdb17c_17f2_11ed_a1c1_0242ac120002row7_col8\" class=\"data row7 col8\" >0.0201437</td> \n",
       "    </tr>    <tr> \n",
       "        <th id=\"T_10cdb17c_17f2_11ed_a1c1_0242ac120002level0_row8\" class=\"row_heading level0 row8\" >profits</th> \n",
       "        <td id=\"T_10cdb17c_17f2_11ed_a1c1_0242ac120002row8_col0\" class=\"data row8 col0\" >0.628846</td> \n",
       "        <td id=\"T_10cdb17c_17f2_11ed_a1c1_0242ac120002row8_col1\" class=\"data row8 col1\" >0.569948</td> \n",
       "        <td id=\"T_10cdb17c_17f2_11ed_a1c1_0242ac120002row8_col2\" class=\"data row8 col2\" >0.976168</td> \n",
       "        <td id=\"T_10cdb17c_17f2_11ed_a1c1_0242ac120002row8_col3\" class=\"data row8 col3\" >0.135912</td> \n",
       "        <td id=\"T_10cdb17c_17f2_11ed_a1c1_0242ac120002row8_col4\" class=\"data row8 col4\" >0.755785</td> \n",
       "        <td id=\"T_10cdb17c_17f2_11ed_a1c1_0242ac120002row8_col5\" class=\"data row8 col5\" >0.186166</td> \n",
       "        <td id=\"T_10cdb17c_17f2_11ed_a1c1_0242ac120002row8_col6\" class=\"data row8 col6\" >0.032791</td> \n",
       "        <td id=\"T_10cdb17c_17f2_11ed_a1c1_0242ac120002row8_col7\" class=\"data row8 col7\" >0.0201437</td> \n",
       "        <td id=\"T_10cdb17c_17f2_11ed_a1c1_0242ac120002row8_col8\" class=\"data row8 col8\" >1</td> \n",
       "    </tr></tbody> \n",
       "</table> "
      ],
      "text/plain": [
       "<pandas.io.formats.style.Styler at 0x7fdc8f366d30>"
      ]
     },
     "execution_count": 27,
     "metadata": {},
     "output_type": "execute_result"
    }
   ],
   "source": [
    "corr.style.background_gradient(cmap='coolwarm')"
   ]
  },
  {
   "cell_type": "markdown",
   "metadata": {},
   "source": [
    "### Research Question 4 (What period is the best to release a film?)"
   ]
  },
  {
   "cell_type": "markdown",
   "metadata": {},
   "source": [
    "First, I will extract the month from the release date column"
   ]
  },
  {
   "cell_type": "code",
   "execution_count": 28,
   "metadata": {},
   "outputs": [],
   "source": [
    "df['month'] = df['release_date'].apply(lambda x: x.month)"
   ]
  },
  {
   "cell_type": "markdown",
   "metadata": {},
   "source": [
    "This is just to add the column period based on months"
   ]
  },
  {
   "cell_type": "code",
   "execution_count": 29,
   "metadata": {},
   "outputs": [],
   "source": [
    "period_l =[]\n",
    "for f in df['month']:\n",
    "    if f == 1 or f == 2 or f ==12:\n",
    "        period_l.append('Winter')\n",
    "    elif f == 3 or f == 4 or f == 5:\n",
    "        period_l.append('Spring')\n",
    "    elif f == 6 or f == 7 or f == 8:\n",
    "        period_l.append('Summer')\n",
    "    else:\n",
    "        period_l.append('Fall')"
   ]
  },
  {
   "cell_type": "code",
   "execution_count": 30,
   "metadata": {},
   "outputs": [],
   "source": [
    "df['period'] = period_l"
   ]
  },
  {
   "cell_type": "markdown",
   "metadata": {},
   "source": [
    "Plotting the distribution of profits in each period."
   ]
  },
  {
   "cell_type": "code",
   "execution_count": 31,
   "metadata": {},
   "outputs": [],
   "source": [
    "period =df.groupby('period')['profits'].sum()"
   ]
  },
  {
   "cell_type": "code",
   "execution_count": 32,
   "metadata": {},
   "outputs": [
    {
     "data": {
      "image/png": "[encoded data removed]",
      "text/plain": [
       "<matplotlib.figure.Figure at 0x7fdc8db88748>"
      ]
     },
     "metadata": {},
     "output_type": "display_data"
    }
   ],
   "source": [
    "plt.title(\"Distribution of the Sum of Profits in different periods\", fontsize=20 )\n",
    "period.plot.pie(figsize=(5, 5),autopct='%1.1f%%',  legend=True, startangle=90)\n",
    "#plt.legend(['Fall', 'Spring', 'Summer', 'Winter'],loc=2)\n",
    "plt.show()\n"
   ]
  },
  {
   "cell_type": "markdown",
   "metadata": {},
   "source": [
    "The summer wins when it comes to the sum of profits, will it stay the same if we use max and min?"
   ]
  },
  {
   "cell_type": "code",
   "execution_count": 33,
   "metadata": {},
   "outputs": [
    {
     "data": {
      "text/plain": [
       "Text(0,0.5,'Profits')"
      ]
     },
     "execution_count": 33,
     "metadata": {},
     "output_type": "execute_result"
    },
    {
     "data": {
      "image/png": "[encoded data removed]",
      "text/plain": [
       "<matplotlib.figure.Figure at 0x7fdc8db291d0>"
      ]
     },
     "metadata": {
      "needs_background": "light"
     },
     "output_type": "display_data"
    }
   ],
   "source": [
    "df.groupby('period')['profits'].agg([\"min\",'max']).plot(kind=\"bar\")\n",
    "plt.title(\"Distribution of the (Min/Max) Profits in different periods \\n\\n\", fontsize=20 )\n",
    "plt.xlabel('Period',fontsize=15)\n",
    "plt.ylabel('Profits',fontsize= 15)"
   ]
  },
  {
   "cell_type": "markdown",
   "metadata": {},
   "source": [
    "Certainly not, the maximum of profits is in Winter surprisingly."
   ]
  },
  {
   "cell_type": "markdown",
   "metadata": {},
   "source": [
    "### Research Question 5 (Does budget have impact on revenue?)"
   ]
  },
  {
   "cell_type": "markdown",
   "metadata": {},
   "source": [
    "Simply plotting the revenue in functiion of the plot"
   ]
  },
  {
   "cell_type": "code",
   "execution_count": 34,
   "metadata": {},
   "outputs": [
    {
     "data": {
      "text/plain": [
       "Text(0,0.5,'Revenue')"
      ]
     },
     "execution_count": 34,
     "metadata": {},
     "output_type": "execute_result"
    },
    {
     "data": {
      "image/png": "[encoded data removed]",
      "text/plain": [
       "<matplotlib.figure.Figure at 0x7fdc8da53550>"
      ]
     },
     "metadata": {
      "needs_background": "light"
     },
     "output_type": "display_data"
    }
   ],
   "source": [
    "df.plot(x=\"budget\", y=\"revenue\",  style=\"o\")\n",
    "plt.title(\"Relationship between Revenue and Budget \\n\\n\", fontsize=17 )\n",
    "plt.xlabel('Budget',fontsize=15)\n",
    "plt.ylabel('Revenue',fontsize= 15)"
   ]
  },
  {
   "cell_type": "markdown",
   "metadata": {},
   "source": [
    "It's clear that there is an obvious relationship between budget and revenue."
   ]
  },
  {
   "cell_type": "markdown",
   "metadata": {},
   "source": [
    "<a id='conclusions'></a>\n",
    "## Conclusions\n",
    "Dealing with movie datasets means that the target is not just companies but also the audience, who often ask questions and seek multiple information about movies, cast, ...\n",
    "\n",
    "I asked useful questions throughout my data analysis and have come to the following conclusions:\n",
    "\n",
    "   1-Drama is a popular genre when it comes to movie creation, so if you're an audience member and you enjoy this subgenre, you're in luck. Additionally, if your business is a production one, watch out for rivals. On the other hand, at the bottom we found the western genre. The reason behind that is that its viewership is decreasing. Similarly, the war and history genres suffer because of the high cost of production.\n",
    "\n",
    "   2-Robert De Niro is a big star, no doubt, and its existence with the ones in the top6 list will influence your revenue.\n",
    "\n",
    "   3-A number of elements, such as the budget, the runtime, and the audience, can influence the revenue.\n",
    "\n",
    "   4- In general, the best period to release a movie is summer, although the maximum was in winter, so as a production company, the safest choice is summer.\n",
    "\n",
    "   5-Budget has an impact on revenue; the more you invest, the more you earn; however, you may get lucky and win a lot with a small budget.\n",
    "\n",
    "When it comes to limitations, this data contains so many categorical data which are combined, so the deal is a little bit harder. In addition, there is a lot of missing data.\n",
    "\n",
    "## Submitting your Project \n",
    "\n"
   ]
  },
  {
   "cell_type": "code",
   "execution_count": 35,
   "metadata": {},
   "outputs": [
    {
     "data": {
      "text/plain": [
       "255"
      ]
     },
     "execution_count": 35,
     "metadata": {},
     "output_type": "execute_result"
    }
   ],
   "source": [
    "from subprocess import call\n",
    "call(['python', '-m', 'nbconvert', 'Investigate_a_Dataset1.ipynb'])"
   ]
  }
 ],
 "metadata": {
  "kernelspec": {
   "display_name": "Python 3",
   "language": "python",
   "name": "python3"
  },
  "language_info": {
   "codemirror_mode": {
    "name": "ipython",
    "version": 3
   },
   "file_extension": ".py",
   "mimetype": "text/x-python",
   "name": "python",
   "nbconvert_exporter": "python",
   "pygments_lexer": "ipython3",
   "version": "3.6.3"
  },
  "vscode": {
   "interpreter": {
    "hash": "b63e0d81c14a359c8c1136163d2e9dd534b37c74c9ecaed1a312a9f148c51841"
   }
  }
 },
 "nbformat": 4,
 "nbformat_minor": 2
}
